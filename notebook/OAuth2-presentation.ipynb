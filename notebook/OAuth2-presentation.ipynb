{
 "cells": [
  {
   "cell_type": "markdown",
   "metadata": {},
   "source": [
    "# Protocollo OAuth\n",
    "Una breve introduzione di cosa si va a parlare e degli strumenti che verranno utilizzati.\n",
    "\n"
   ]
  },
  {
   "cell_type": "code",
   "execution_count": 7,
   "metadata": {},
   "outputs": [
    {
     "data": {
      "text/plain": [
       "'dev-openid-288208'"
      ]
     },
     "execution_count": 7,
     "metadata": {},
     "output_type": "execute_result"
    }
   ],
   "source": [
    "import requests\n",
    "import os\n",
    "\n",
    "os.environ['GCLOUD_PROJECT_ID']"
   ]
  },
  {
   "cell_type": "markdown",
   "metadata": {},
   "source": [
    "### Entita' di un protocollo di autorizzazione\n",
    "\n",
    "* risorsa (immagini, video, chiavi della macchina)\n",
    "* propietario della risorsa\n",
    "* servizio terzo"
   ]
  },
  {
   "cell_type": "markdown",
   "metadata": {},
   "source": [
    "### Problemi fornendo direttamente le propie credenziali al servizio\n",
    "\n",
    "1. Il propietario della risorsa, per garantirne l'accesso a servizi terzi deve fornire le sue credenziali ad essi.\n",
    "2. I servizi terzi ottenendo le credenziali hanno completo controllo sull'account dell'utente.\n",
    "3. Il propietario puo' revocare l'accesso alla risorsa solamente cambiando le sue credenziali.\n",
    "4. Non e' possibile revocare autorizzazione ad un solo servizio.\n",
    "\n",
    "I problemi ovviamente non si pongono nel caso in cui il propietario delle risorse coincide con l'autore del servizio terzo."
   ]
  },
  {
   "cell_type": "markdown",
   "metadata": {},
   "source": [
    "## OAuth2.0\n",
    "E' un protocollo utilizzato per garantire ad un client l'autorizzazione per le API di un server.\n",
    "\n",
    "L'autorizzazione e' espressa attraverso un token, chiamato `access_token`, che deve essere contenuto\n",
    "negli header delle richieste API."
   ]
  },
  {
   "attachments": {
    "authorization-code.png": {
     "image/png": "[encoded data removed]"
    }
   },
   "cell_type": "markdown",
   "metadata": {},
   "source": [
    "![authorization-code.png](attachment:authorization-code.png)"
   ]
  },
  {
   "cell_type": "code",
   "execution_count": 2,
   "metadata": {},
   "outputs": [],
   "source": [
    "access_token = 'B0ASF99a0dsaf09v90as0'\n",
    "headers = {\n",
    "    'Authorization': 'Bearer ' + access_token\n",
    "}\n",
    "#response = requests.post('https://google.apis/example/email', headers=headers)"
   ]
  },
  {
   "cell_type": "markdown",
   "metadata": {},
   "source": [
    "### Come ottenere un access token\n",
    "1. client fa un redirect alla pagina di autorizzazione, specificando i permessi richiesti"
   ]
  },
  {
   "cell_type": "code",
   "execution_count": 5,
   "metadata": {},
   "outputs": [],
   "source": [
    "from urllib.parse import quote\n",
    "\n",
    "authorization_url = 'http://google.it'\n",
    "response_type     = 'code'\n",
    "client_id         = 'my_client_id'\n",
    "redirect_uri      = quote('http://localhost:8000/after_redirect')\n",
    "scope             = 'email,openid'\n",
    "state             = '---'\n",
    "\n",
    "params = '&'.join([\n",
    "    f'{response_type=}', # Comportamento del server di autorizzazione\n",
    "    f'{client_id=}',     # Identificativo dell'applicazione\n",
    "    f'{redirect_uri=}',  # Dove far redirect una volta che il processo di autorizzazione e' terminato\n",
    "    f'{scope=}',         # Autorizzazioni richieste\n",
    "    f'{state=}',         # Stato che viene ritornato indietro al server\n",
    "])\n",
    "redirect_to = f'{authorization_url}?{params}'"
   ]
  },
  {
   "cell_type": "code",
   "execution_count": 4,
   "metadata": {},
   "outputs": [
    {
     "data": {
      "text/plain": [
       "\"http://google.it?response_type='code'&client_id='my_client_id'&redirect_uri='http%3A//localhost%3A8000/after_redirect'&scope='email,openid'&state='---'\""
      ]
     },
     "execution_count": 4,
     "metadata": {},
     "output_type": "execute_result"
    }
   ],
   "source": [
    "redirect_to"
   ]
  },
  {
   "cell_type": "raw",
   "metadata": {},
   "source": []
  },
  {
   "cell_type": "markdown",
   "metadata": {},
   "source": [
    "## Diverse estensioni del protocollo:\n",
    "* "
   ]
  },
  {
   "cell_type": "code",
   "execution_count": null,
   "metadata": {},
   "outputs": [],
   "source": []
  }
 ],
 "metadata": {
  "kernelspec": {
   "display_name": "Python 3",
   "language": "python",
   "name": "python3"
  },
  "language_info": {
   "codemirror_mode": {
    "name": "ipython",
    "version": 3
   },
   "file_extension": ".py",
   "mimetype": "text/x-python",
   "name": "python",
   "nbconvert_exporter": "python",
   "pygments_lexer": "ipython3",
   "version": "3.8.6"
  }
 },
 "nbformat": 4,
 "nbformat_minor": 4
}
