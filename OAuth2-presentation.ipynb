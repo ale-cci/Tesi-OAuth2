{
 "cells": [
  {
   "cell_type": "markdown",
   "metadata": {},
   "source": [
    "## Il problema\n",
    "Ho delle API private, che svolgono specifiche funzioni, come ad esempio la gestione del magazzino di un'azienda.\n",
    "Voglio solo che un set ristretto di utenti possano utilizzare queste api.\n",
    "\n",
    "\n"
   ]
  },
  {
   "cell_type": "code",
   "execution_count": 10,
   "metadata": {},
   "outputs": [],
   "source": [
    "import requests\n",
    "\n",
    "# response = requests.get('http://localhost:8000')\n",
    "response = ''"
   ]
  },
  {
   "cell_type": "code",
   "execution_count": 11,
   "metadata": {},
   "outputs": [
    {
     "data": {
      "text/plain": [
       "''"
      ]
     },
     "execution_count": 11,
     "metadata": {},
     "output_type": "execute_result"
    }
   ],
   "source": [
    "response"
   ]
  },
  {
   "cell_type": "markdown",
   "metadata": {},
   "source": [
    "## OAuth2\n",
    "E' un protocollo utilizzato per garantire ad un client l'autorizzazione per le API di un server.\n",
    "\n",
    "L'autorizzazione e' espressa attraverso un token, chiamato `access_token`, che deve essere contenuto\n",
    "negli header delle richieste API."
   ]
  },
  {
   "cell_type": "code",
   "execution_count": 1,
   "metadata": {},
   "outputs": [],
   "source": [
    "access_token = 'B0ASF99a0dsaf09v90as0'\n",
    "headers = {\n",
    "    'Authorization': 'Bearer ' + access_token\n",
    "}\n",
    "#response = requests.post('https://google.apis/example/email', headers=headers)"
   ]
  },
  {
   "cell_type": "markdown",
   "metadata": {},
   "source": [
    "### Come ottenere un access token\n",
    "1. client fa un redirect alla pagina di autorizzazione, specificando i permessi richiesti"
   ]
  },
  {
   "cell_type": "code",
   "execution_count": 21,
   "metadata": {},
   "outputs": [],
   "source": [
    "from urllib.parse import quote\n",
    "\n",
    "authorization_url = 'http://google.it'\n",
    "response_type = 'code'        # Comportamento che il server di autorizzazione deve avere\n",
    "client_id     = 'my_client_id'\n",
    "redirect_uri  = quote('http://localhost:8000/after_redirect')\n",
    "scope         = 'email,openid'\n",
    "state         = '---'\n",
    "\n",
    "params = '&'.join([\n",
    "    # Comportamento del server di autorizzazione\n",
    "    f'response_type={response_type}',\n",
    "    \n",
    "    # Identificativo dell'applicazione\n",
    "    f'client_id={client_id}',\n",
    "    \n",
    "    # Dove far redirect una volta che il processo di autorizzazione e' terminato\n",
    "    f'redicrect_uri={redirect_uri}',\n",
    "    \n",
    "    # Autorizzazioni richieste\n",
    "    f'scope={scope}',\n",
    "    \n",
    "    # Stato che viene ritornato indietro al server\n",
    "    f'state={state}'\n",
    "])\n",
    "redirect_to = f'{authorization_url}?{params}'"
   ]
  },
  {
   "cell_type": "code",
   "execution_count": 22,
   "metadata": {},
   "outputs": [
    {
     "data": {
      "text/plain": [
       "'http://google.it?response_type=code&client_id=my_client_id&redicrect_uri=http%3A//localhost%3A8000/after_redirect&scope=email,openid&state=---'"
      ]
     },
     "execution_count": 22,
     "metadata": {},
     "output_type": "execute_result"
    }
   ],
   "source": [
    "redirect_to"
   ]
  },
  {
   "cell_type": "raw",
   "metadata": {},
   "source": [
    "333"
   ]
  },
  {
   "cell_type": "markdown",
   "metadata": {},
   "source": [
    "### Bibliografia\n",
    "[test]()"
   ]
  }
 ],
 "metadata": {
  "kernelspec": {
   "display_name": "Python 3",
   "language": "python",
   "name": "python3"
  },
  "language_info": {
   "codemirror_mode": {
    "name": "ipython",
    "version": 3
   },
   "file_extension": ".py",
   "mimetype": "text/x-python",
   "name": "python",
   "nbconvert_exporter": "python",
   "pygments_lexer": "ipython3",
   "version": "3.8.6"
  }
 },
 "nbformat": 4,
 "nbformat_minor": 4
}
